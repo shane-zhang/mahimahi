{
 "cells": [
  {
   "cell_type": "code",
   "execution_count": 1,
   "id": "67f102d8",
   "metadata": {},
   "outputs": [],
   "source": [
    "import pandas as pd"
   ]
  },
  {
   "cell_type": "code",
   "execution_count": 7,
   "id": "59756b91",
   "metadata": {},
   "outputs": [],
   "source": [
    "site = \"www.netflix.com\""
   ]
  },
  {
   "cell_type": "code",
   "execution_count": 3,
   "id": "62e3ddf5",
   "metadata": {},
   "outputs": [],
   "source": [
    "pt_pd = pd.read_csv(\"./tmp_dict/%s/prolonged_traffic.txt\" % site, sep = '\\t', header = None)"
   ]
  },
  {
   "cell_type": "code",
   "execution_count": 2,
   "id": "a525a3cc",
   "metadata": {},
   "outputs": [],
   "source": [
    "import requests"
   ]
  },
  {
   "cell_type": "code",
   "execution_count": 5,
   "id": "db98bd0b",
   "metadata": {},
   "outputs": [],
   "source": [
    "get = requests.get(\"https://ipinfo.io/8.8.8.8/org?token=2c732d429c11a8\").content.decode().strip()"
   ]
  },
  {
   "cell_type": "code",
   "execution_count": 6,
   "id": "5be74bd0",
   "metadata": {},
   "outputs": [],
   "source": [
    "pt_pd['org'] = pt_pd.apply(lambda x: requests.get(\"https://ipinfo.io/%s/org?token=2c732d429c11a8\"%x[0]).content.decode().strip(), axis = 1)"
   ]
  },
  {
   "cell_type": "code",
   "execution_count": 8,
   "id": "4951e6be",
   "metadata": {},
   "outputs": [
    {
     "data": {
      "text/html": [
       "<div>\n",
       "<style scoped>\n",
       "    .dataframe tbody tr th:only-of-type {\n",
       "        vertical-align: middle;\n",
       "    }\n",
       "\n",
       "    .dataframe tbody tr th {\n",
       "        vertical-align: top;\n",
       "    }\n",
       "\n",
       "    .dataframe thead th {\n",
       "        text-align: right;\n",
       "    }\n",
       "</style>\n",
       "<table border=\"1\" class=\"dataframe\">\n",
       "  <thead>\n",
       "    <tr style=\"text-align: right;\">\n",
       "      <th></th>\n",
       "      <th>0</th>\n",
       "      <th>1</th>\n",
       "      <th>org</th>\n",
       "    </tr>\n",
       "  </thead>\n",
       "  <tbody>\n",
       "    <tr>\n",
       "      <th>0</th>\n",
       "      <td>3.230.129.93</td>\n",
       "      <td>0</td>\n",
       "      <td>AS14618 Amazon.com, Inc.</td>\n",
       "    </tr>\n",
       "    <tr>\n",
       "      <th>1</th>\n",
       "      <td>104.16.148.64</td>\n",
       "      <td>0</td>\n",
       "      <td>AS13335 Cloudflare, Inc.</td>\n",
       "    </tr>\n",
       "    <tr>\n",
       "      <th>2</th>\n",
       "      <td>45.57.91.1</td>\n",
       "      <td>0</td>\n",
       "      <td>AS40027 Netflix Streaming Services Inc.</td>\n",
       "    </tr>\n",
       "    <tr>\n",
       "      <th>3</th>\n",
       "      <td>20.42.73.27</td>\n",
       "      <td>0</td>\n",
       "      <td>AS8075 Microsoft Corporation</td>\n",
       "    </tr>\n",
       "    <tr>\n",
       "      <th>4</th>\n",
       "      <td>204.85.30.250</td>\n",
       "      <td>0</td>\n",
       "      <td>AS81 MCNC</td>\n",
       "    </tr>\n",
       "    <tr>\n",
       "      <th>5</th>\n",
       "      <td>104.18.41.98</td>\n",
       "      <td>0</td>\n",
       "      <td>AS13335 Cloudflare, Inc.</td>\n",
       "    </tr>\n",
       "    <tr>\n",
       "      <th>6</th>\n",
       "      <td>184.29.129.189</td>\n",
       "      <td>0</td>\n",
       "      <td>AS16625 Akamai Technologies, Inc.</td>\n",
       "    </tr>\n",
       "    <tr>\n",
       "      <th>7</th>\n",
       "      <td>142.250.176.72</td>\n",
       "      <td>0</td>\n",
       "      <td>AS15169 Google LLC</td>\n",
       "    </tr>\n",
       "    <tr>\n",
       "      <th>8</th>\n",
       "      <td>54.84.139.19</td>\n",
       "      <td>0</td>\n",
       "      <td>AS14618 Amazon.com, Inc.</td>\n",
       "    </tr>\n",
       "    <tr>\n",
       "      <th>9</th>\n",
       "      <td>172.217.10.98</td>\n",
       "      <td>0</td>\n",
       "      <td>AS15169 Google LLC</td>\n",
       "    </tr>\n",
       "    <tr>\n",
       "      <th>10</th>\n",
       "      <td>142.251.15.103</td>\n",
       "      <td>0</td>\n",
       "      <td>AS15169 Google LLC</td>\n",
       "    </tr>\n",
       "    <tr>\n",
       "      <th>11</th>\n",
       "      <td>factor</td>\n",
       "      <td>50</td>\n",
       "      <td>{\\n  \"status\": 404,\\n  \"error\": {\\n    \"title\"...</td>\n",
       "    </tr>\n",
       "  </tbody>\n",
       "</table>\n",
       "</div>"
      ],
      "text/plain": [
       "                 0   1                                                org\n",
       "0     3.230.129.93   0                           AS14618 Amazon.com, Inc.\n",
       "1    104.16.148.64   0                           AS13335 Cloudflare, Inc.\n",
       "2       45.57.91.1   0            AS40027 Netflix Streaming Services Inc.\n",
       "3      20.42.73.27   0                       AS8075 Microsoft Corporation\n",
       "4    204.85.30.250   0                                          AS81 MCNC\n",
       "5     104.18.41.98   0                           AS13335 Cloudflare, Inc.\n",
       "6   184.29.129.189   0                  AS16625 Akamai Technologies, Inc.\n",
       "7   142.250.176.72   0                                 AS15169 Google LLC\n",
       "8     54.84.139.19   0                           AS14618 Amazon.com, Inc.\n",
       "9    172.217.10.98   0                                 AS15169 Google LLC\n",
       "10  142.251.15.103   0                                 AS15169 Google LLC\n",
       "11          factor  50  {\\n  \"status\": 404,\\n  \"error\": {\\n    \"title\"..."
      ]
     },
     "execution_count": 8,
     "metadata": {},
     "output_type": "execute_result"
    }
   ],
   "source": [
    "pt_pd"
   ]
  },
  {
   "cell_type": "code",
   "execution_count": 3,
   "id": "10f06ff5",
   "metadata": {},
   "outputs": [],
   "source": [
    "import os"
   ]
  },
  {
   "cell_type": "code",
   "execution_count": 15,
   "id": "bfb84327",
   "metadata": {},
   "outputs": [],
   "source": [
    "os.environ[\"mmpath\"] = \"/\""
   ]
  },
  {
   "cell_type": "code",
   "execution_count": 4,
   "id": "69741aab",
   "metadata": {},
   "outputs": [],
   "source": [
    "from subprocess import check_output"
   ]
  },
  {
   "cell_type": "code",
   "execution_count": 5,
   "id": "d3f1e5dc",
   "metadata": {},
   "outputs": [],
   "source": [
    "from collections import defaultdict"
   ]
  },
  {
   "cell_type": "code",
   "execution_count": 18,
   "id": "e0dfc64c",
   "metadata": {},
   "outputs": [],
   "source": [
    "output_lst = defaultdict(list)"
   ]
  },
  {
   "cell_type": "code",
   "execution_count": null,
   "id": "6d879f66",
   "metadata": {},
   "outputs": [],
   "source": [
    "for i in [0.00, 0.01, 0.02, 0.03, 0.04, 0.05, 0.06, 0.07, 0.08, 0.09, 0.10]:\n",
    "    pt_pd[1] = pt_pd.apply(lambda x: i if \"AS13335\" in x['org'] or \"AS81\" in x['org'] or \"AS16625\" in x['org'] else x[1], axis = 1)\n",
    "    pt_pd[[0,1]].to_csv(\"./tmp_dict/%s/prolonged_traffic.txt\" % site, header = None, index = None, sep = \"\\t\")\n",
    "    for _ in range(100):\n",
    "        output_lst[i].append(check_output(\"python replay_all.py\", shell = True))\n",
    "    os.system(\"mv plTime/%s plTime/%s.%s\" % (site,site,i))"
   ]
  },
  {
   "cell_type": "code",
   "execution_count": 8,
   "id": "d471005d",
   "metadata": {},
   "outputs": [],
   "source": [
    "plt_dict = {}\n",
    "for i in [ 0.01, 0.02, 0.03, 0.04, 0.05, 0.06, 0.07, 0.08, 0.09, 0.10]:\n",
    "    plt_dict[i] = pd.read_csv(\"plTime/%s.%s\" % (site,i), header = None, sep = '\\t')"
   ]
  },
  {
   "cell_type": "code",
   "execution_count": 9,
   "id": "ee5070e6",
   "metadata": {},
   "outputs": [],
   "source": [
    "import seaborn as sns\n",
    "import matplotlib.pyplot as plt"
   ]
  },
  {
   "cell_type": "code",
   "execution_count": 11,
   "id": "43c72bc3",
   "metadata": {},
   "outputs": [
    {
     "data": {
      "text/plain": [
       "Text(0.5, 1.0, 'netflix')"
      ]
     },
     "execution_count": 11,
     "metadata": {},
     "output_type": "execute_result"
    },
    {
     "data": {
      "image/png": "[encoded data removed]",
      "text/plain": [
       "<Figure size 640x480 with 1 Axes>"
      ]
     },
     "metadata": {},
     "output_type": "display_data"
    }
   ],
   "source": [
    "for each in plt_dict:\n",
    "    sns.ecdfplot(plt_dict[each][plt_dict[each][0] == \"PLT\"][1], label = each.__str__())\n",
    "plt.grid()\n",
    "plt.legend()\n",
    "plt.title(\"netflix\")"
   ]
  },
  {
   "cell_type": "code",
   "execution_count": 52,
   "id": "cb1a3d07",
   "metadata": {},
   "outputs": [
    {
     "data": {
      "text/plain": [
       "11"
      ]
     },
     "execution_count": 52,
     "metadata": {},
     "output_type": "execute_result"
    }
   ],
   "source": [
    "len(output_lst)"
   ]
  },
  {
   "cell_type": "code",
   "execution_count": 53,
   "id": "e1df7334",
   "metadata": {},
   "outputs": [],
   "source": [
    "connect_session_info_pic2 = output_lst"
   ]
  },
  {
   "cell_type": "code",
   "execution_count": 54,
   "id": "2911091f",
   "metadata": {},
   "outputs": [
    {
     "name": "stdout",
     "output_type": "stream",
     "text": [
      "Stored 'connect_session_info_pic2' (defaultdict)\n"
     ]
    }
   ],
   "source": [
    "%store connect_session_info_pic2"
   ]
  },
  {
   "cell_type": "code",
   "execution_count": null,
   "id": "1a9c13b3",
   "metadata": {},
   "outputs": [],
   "source": []
  }
 ],
 "metadata": {
  "kernelspec": {
   "display_name": "Python 3 (ipykernel)",
   "language": "python",
   "name": "python3"
  },
  "language_info": {
   "codemirror_mode": {
    "name": "ipython",
    "version": 3
   },
   "file_extension": ".py",
   "mimetype": "text/x-python",
   "name": "python",
   "nbconvert_exporter": "python",
   "pygments_lexer": "ipython3",
   "version": "3.9.13"
  }
 },
 "nbformat": 4,
 "nbformat_minor": 5
}
