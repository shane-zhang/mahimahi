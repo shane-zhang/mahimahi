{
 "cells": [
  {
   "cell_type": "code",
   "execution_count": 2,
   "id": "2a524a31",
   "metadata": {},
   "outputs": [],
   "source": [
    "import pandas as pd"
   ]
  },
  {
   "cell_type": "code",
   "execution_count": 3,
   "id": "8f17d21f",
   "metadata": {},
   "outputs": [],
   "source": [
    "import json"
   ]
  },
  {
   "cell_type": "code",
   "execution_count": 4,
   "id": "9cf6acba",
   "metadata": {},
   "outputs": [],
   "source": [
    "top_sites = ['paypal.com', 'spotify.com', 'tumblr.com', 'sina.com.cn', 'weibo.com', 'msn.com', 'intuit.com', 'webex.com', 'mozilla.org', 'blogspot.com', 'vk.com', 'csdn.net', 'taobao.com', 'bit.ly', 'vimeo.com', 'zoom.us', 'reddit.com', 'mail.ru', 'whatsapp.com', 'zhihu.com', 'wordpress.org', 'cnn.com', 'bing.com', 'live.com', 'azure.com', 'amazon.com', 'qq.com', 'bilibili.com', 'yahoo.com', 'wikipedia.org', 'linkedin.com', 'apple.com', 'baidu.com', 'instagram.com', 'twitter.com', 'netflix.com', 'microsoft.com', 'facebook.com', 'youtube.com', 'google.com']"
   ]
  },
  {
   "cell_type": "code",
   "execution_count": 5,
   "id": "15c23294",
   "metadata": {},
   "outputs": [],
   "source": [
    "web_logs = ['paypal.com-replay1668469179480.json', 'spotify.com-replay1668469172330.json', 'tumblr.com-replay1668469165969.json', 'sina.com.cn-replay1668469155640.json', 'weibo.com-replay1668469145184.json', 'msn.com-replay1668469137126.json', 'intuit.com-replay1668469127798.json', 'webex.com-replay1668469120737.json', 'mozilla.org-replay1668469110390.json', 'blogspot.com-replay1668469100407.json', 'vk.com-replay1668469092226.json', 'csdn.net-replay1668469080787.json', 'taobao.com-replay1668469027978.json', 'bit.ly-replay1668469021969.json', 'vimeo.com-replay1668468952098.json', 'zoom.us-replay1668468943380.json', 'reddit.com-replay1668468932700.json', 'mail.ru-replay1668468922823.json', 'whatsapp.com-replay1668468916066.json', 'zhihu.com-replay1668468908199.json', 'wordpress.org-replay1668468898038.json', 'cnn.com-replay1668468881963.json', 'bing.com-replay1668468874455.json', 'live.com-replay1668468869001.json', 'azure.com-replay1668468861904.json', 'amazon.com-replay1668468846315.json', 'qq.com-replay1668468835160.json', 'bilibili.com-replay1668468826772.json', 'yahoo.com-replay1668468814810.json', 'wikipedia.org-replay1668468809571.json', 'linkedin.com-replay1668468799673.json', 'apple.com-replay1668468793497.json', 'baidu.com-replay1668468779830.json', 'instagram.com-replay1668468774040.json', 'twitter.com-replay1668468768423.json', 'netflix.com-replay1668468762609.json', 'microsoft.com-replay1668468755652.json', 'facebook.com-replay1668468749769.json', 'youtube.com-replay1668468743132.json', 'google.com-replay1668468737273.json']"
   ]
  },
  {
   "cell_type": "code",
   "execution_count": 14,
   "id": "813cfcb8",
   "metadata": {},
   "outputs": [
    {
     "name": "stdout",
     "output_type": "stream",
     "text": [
      "paypal.com\n",
      "3\n",
      "spotify.com\n",
      "11\n",
      "tumblr.com\n",
      "5\n",
      "sina.com.cn\n",
      "18\n",
      "weibo.com\n",
      "14\n",
      "msn.com\n",
      "8\n",
      "intuit.com\n",
      "19\n",
      "webex.com\n",
      "5\n",
      "mozilla.org\n",
      "2\n",
      "blogspot.com\n",
      "6\n",
      "vk.com\n",
      "7\n",
      "csdn.net\n",
      "13\n",
      "taobao.com\n",
      "18\n",
      "bit.ly\n",
      "4\n",
      "vimeo.com\n",
      "3\n",
      "zoom.us\n",
      "6\n",
      "reddit.com\n",
      "3\n",
      "mail.ru\n",
      "20\n",
      "whatsapp.com\n",
      "1\n",
      "zhihu.com\n",
      "7\n",
      "wordpress.org\n",
      "6\n",
      "cnn.com\n",
      "81\n",
      "bing.com\n",
      "2\n",
      "live.com\n",
      "5\n",
      "azure.com\n",
      "6\n",
      "amazon.com\n",
      "9\n",
      "qq.com\n",
      "22\n",
      "bilibili.com\n",
      "5\n",
      "yahoo.com\n",
      "4\n",
      "wikipedia.org\n",
      "1\n",
      "linkedin.com\n",
      "2\n",
      "apple.com\n",
      "5\n",
      "baidu.com\n",
      "5\n",
      "instagram.com\n",
      "4\n",
      "twitter.com\n",
      "2\n",
      "netflix.com\n",
      "4\n",
      "microsoft.com\n",
      "5\n",
      "facebook.com\n",
      "2\n",
      "youtube.com\n",
      "6\n",
      "google.com\n",
      "5\n"
     ]
    }
   ],
   "source": [
    "log_pd = {}\n",
    "receive_pd = {}\n",
    "for each in web_logs:\n",
    "    #print (each)\n",
    "    key = each.split(\"-\")[0]\n",
    "    log_pd[key] = pd.DataFrame(json.load(open(\"./network_log/top_list/%s\" % each, \"r\")))\n",
    "    receive_pd[key] = pd.json_normalize(log_pd[key][log_pd[key]['eventType'] == 'responseReceived']['response'])\n",
    "    print (key)\n",
    "    print (len(receive_pd[key][[\"url\", \"mimeType\",\"encodedDataLength\",\"connectionId\" ,\"remoteIPAddress\", \"remotePort\", \"connectionReused\"]].groupby(\"remoteIPAddress\").agg({\"encodedDataLength\": \"sum\", \"url\": \"count\"})))"
   ]
  },
  {
   "cell_type": "code",
   "execution_count": 9,
   "id": "fc880fac",
   "metadata": {},
   "outputs": [
    {
     "data": {
      "text/html": [
       "<div>\n",
       "<style scoped>\n",
       "    .dataframe tbody tr th:only-of-type {\n",
       "        vertical-align: middle;\n",
       "    }\n",
       "\n",
       "    .dataframe tbody tr th {\n",
       "        vertical-align: top;\n",
       "    }\n",
       "\n",
       "    .dataframe thead th {\n",
       "        text-align: right;\n",
       "    }\n",
       "</style>\n",
       "<table border=\"1\" class=\"dataframe\">\n",
       "  <thead>\n",
       "    <tr style=\"text-align: right;\">\n",
       "      <th></th>\n",
       "      <th>encodedDataLength</th>\n",
       "      <th>url</th>\n",
       "    </tr>\n",
       "    <tr>\n",
       "      <th>remoteIPAddress</th>\n",
       "      <th></th>\n",
       "      <th></th>\n",
       "    </tr>\n",
       "  </thead>\n",
       "  <tbody>\n",
       "    <tr>\n",
       "      <th>151.101.129.21</th>\n",
       "      <td>11234</td>\n",
       "      <td>4</td>\n",
       "    </tr>\n",
       "    <tr>\n",
       "      <th>151.101.129.35</th>\n",
       "      <td>1185</td>\n",
       "      <td>1</td>\n",
       "    </tr>\n",
       "    <tr>\n",
       "      <th>192.229.210.155</th>\n",
       "      <td>14177</td>\n",
       "      <td>21</td>\n",
       "    </tr>\n",
       "  </tbody>\n",
       "</table>\n",
       "</div>"
      ],
      "text/plain": [
       "                 encodedDataLength  url\n",
       "remoteIPAddress                        \n",
       "151.101.129.21               11234    4\n",
       "151.101.129.35                1185    1\n",
       "192.229.210.155              14177   21"
      ]
     },
     "execution_count": 9,
     "metadata": {},
     "output_type": "execute_result"
    }
   ],
   "source": [
    "receive_pd['paypal.com'][[\"url\", \"mimeType\",\"encodedDataLength\",\"connectionId\" ,\"remoteIPAddress\", \"remotePort\", \"connectionReused\"]].groupby(\"remoteIPAddress\").agg({\"encodedDataLength\": \"sum\", \"url\": \"count\"})"
   ]
  },
  {
   "cell_type": "code",
   "execution_count": 34,
   "id": "df15ae01",
   "metadata": {},
   "outputs": [
    {
     "data": {
      "text/plain": [
       "Index(['url', 'status', 'statusText', 'mimeType', 'connectionReused',\n",
       "       'connectionId', 'remoteIPAddress', 'remotePort', 'fromDiskCache',\n",
       "       'fromServiceWorker', 'fromPrefetchCache', 'encodedDataLength',\n",
       "       'responseTime', 'protocol', 'securityState', 'headers.Accept-Ranges',\n",
       "       'headers.Cache-Control', 'headers.Connection',\n",
       "       'headers.Content-Encoding', 'headers.Content-Security-Policy',\n",
       "       'headers.Content-Type', 'headers.DC', 'headers.Date', 'headers.Etag',\n",
       "       'headers.Paypal-Debug-Id', 'headers.Server-Timing',\n",
       "       'headers.Strict-Transport-Security', 'headers.Traceparent',\n",
       "       'headers.Vary', 'headers.Via', 'headers.X-Cache',\n",
       "       'headers.X-Cache-Hits', 'headers.X-Content-Type-Options',\n",
       "       'headers.X-Served-By', 'headers.X-Timer', 'headers.X-Xss-Protection',\n",
       "       'headers.transfer-encoding', 'timing.requestTime', 'timing.proxyStart',\n",
       "       'timing.proxyEnd', 'timing.dnsStart', 'timing.dnsEnd',\n",
       "       'timing.connectStart', 'timing.connectEnd', 'timing.sslStart',\n",
       "       'timing.sslEnd', 'timing.workerStart', 'timing.workerReady',\n",
       "       'timing.workerFetchStart', 'timing.workerRespondWithSettled',\n",
       "       'timing.sendStart', 'timing.sendEnd', 'timing.pushStart',\n",
       "       'timing.pushEnd', 'timing.receiveHeadersEnd',\n",
       "       'securityDetails.protocol', 'securityDetails.keyExchange',\n",
       "       'securityDetails.keyExchangeGroup', 'securityDetails.cipher',\n",
       "       'securityDetails.certificateId', 'securityDetails.subjectName',\n",
       "       'securityDetails.sanList', 'securityDetails.issuer',\n",
       "       'securityDetails.validFrom', 'securityDetails.validTo',\n",
       "       'securityDetails.signedCertificateTimestampList',\n",
       "       'securityDetails.certificateTransparencyCompliance',\n",
       "       'securityDetails.serverSignatureAlgorithm',\n",
       "       'securityDetails.encryptedClientHello', 'headers.content-encoding',\n",
       "       'headers.Content-Length', 'headers.Last-Modified', 'headers.Server',\n",
       "       'headers.Access-Control-Allow-Origin', 'headers.Timing-Allow-Origin',\n",
       "       'headers.Expires', 'headers.Access-Control-Allow-Methods',\n",
       "       'headers.Access-Control-Allow-Headers', 'headers.P3p',\n",
       "       'headers.Pragma'],\n",
       "      dtype='object')"
      ]
     },
     "execution_count": 34,
     "metadata": {},
     "output_type": "execute_result"
    }
   ],
   "source": [
    "receive_pd['paypal.com'].columns"
   ]
  },
  {
   "cell_type": "code",
   "execution_count": 13,
   "id": "c0c20458",
   "metadata": {},
   "outputs": [
    {
     "data": {
      "text/html": [
       "<div>\n",
       "<style scoped>\n",
       "    .dataframe tbody tr th:only-of-type {\n",
       "        vertical-align: middle;\n",
       "    }\n",
       "\n",
       "    .dataframe tbody tr th {\n",
       "        vertical-align: top;\n",
       "    }\n",
       "\n",
       "    .dataframe thead th {\n",
       "        text-align: right;\n",
       "    }\n",
       "</style>\n",
       "<table border=\"1\" class=\"dataframe\">\n",
       "  <thead>\n",
       "    <tr style=\"text-align: right;\">\n",
       "      <th></th>\n",
       "      <th>encodedDataLength</th>\n",
       "      <th>url</th>\n",
       "    </tr>\n",
       "    <tr>\n",
       "      <th>remoteIPAddress</th>\n",
       "      <th></th>\n",
       "      <th></th>\n",
       "    </tr>\n",
       "  </thead>\n",
       "  <tbody>\n",
       "    <tr>\n",
       "      <th>104.16.149.64</th>\n",
       "      <td>2789</td>\n",
       "      <td>3</td>\n",
       "    </tr>\n",
       "    <tr>\n",
       "      <th>204.85.30.254</th>\n",
       "      <td>453</td>\n",
       "      <td>1</td>\n",
       "    </tr>\n",
       "    <tr>\n",
       "      <th>45.57.90.1</th>\n",
       "      <td>5502</td>\n",
       "      <td>16</td>\n",
       "    </tr>\n",
       "    <tr>\n",
       "      <th>54.237.226.164</th>\n",
       "      <td>4025</td>\n",
       "      <td>3</td>\n",
       "    </tr>\n",
       "  </tbody>\n",
       "</table>\n",
       "</div>"
      ],
      "text/plain": [
       "                 encodedDataLength  url\n",
       "remoteIPAddress                        \n",
       "104.16.149.64                 2789    3\n",
       "204.85.30.254                  453    1\n",
       "45.57.90.1                    5502   16\n",
       "54.237.226.164                4025    3"
      ]
     },
     "execution_count": 13,
     "metadata": {},
     "output_type": "execute_result"
    }
   ],
   "source": [
    "receive_pd['netflix.com'][[\"url\", \"mimeType\",\"encodedDataLength\",\"connectionId\" ,\"remoteIPAddress\", \"remotePort\", \"connectionReused\"]].groupby(\"remoteIPAddress\").agg({\"encodedDataLength\": \"sum\", \"url\": \"count\"})"
   ]
  },
  {
   "cell_type": "code",
   "execution_count": null,
   "id": "24b62833",
   "metadata": {},
   "outputs": [],
   "source": []
  }
 ],
 "metadata": {
  "kernelspec": {
   "display_name": "Python 3 (ipykernel)",
   "language": "python",
   "name": "python3"
  },
  "language_info": {
   "codemirror_mode": {
    "name": "ipython",
    "version": 3
   },
   "file_extension": ".py",
   "mimetype": "text/x-python",
   "name": "python",
   "nbconvert_exporter": "python",
   "pygments_lexer": "ipython3",
   "version": "3.9.13"
  }
 },
 "nbformat": 4,
 "nbformat_minor": 5
}
