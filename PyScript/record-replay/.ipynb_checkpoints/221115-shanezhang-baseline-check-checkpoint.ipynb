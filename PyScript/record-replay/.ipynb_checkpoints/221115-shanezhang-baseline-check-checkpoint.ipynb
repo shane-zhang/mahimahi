{
 "cells": [
  {
   "cell_type": "code",
   "execution_count": 27,
   "id": "67f102d8",
   "metadata": {},
   "outputs": [],
   "source": [
    "import pandas as pd"
   ]
  },
  {
   "cell_type": "code",
   "execution_count": 28,
   "id": "62e3ddf5",
   "metadata": {},
   "outputs": [],
   "source": [
    "pt_pd = pd.read_csv(\"./tmp_dict/www.shanezhang.com/prolonged_traffic.txt\", sep = '\\t', header = None)"
   ]
  },
  {
   "cell_type": "code",
   "execution_count": 29,
   "id": "a525a3cc",
   "metadata": {},
   "outputs": [],
   "source": [
    "import requests"
   ]
  },
  {
   "cell_type": "code",
   "execution_count": 30,
   "id": "db98bd0b",
   "metadata": {},
   "outputs": [],
   "source": [
    "get = requests.get(\"https://ipinfo.io/8.8.8.8/org?token=2c732d429c11a8\").content.decode().strip()"
   ]
  },
  {
   "cell_type": "code",
   "execution_count": 31,
   "id": "5be74bd0",
   "metadata": {},
   "outputs": [],
   "source": [
    "pt_pd['org'] = pt_pd.apply(lambda x: requests.get(\"https://ipinfo.io/%s/org?token=2c732d429c11a8\"%x[0]).content.decode().strip(), axis = 1)"
   ]
  },
  {
   "cell_type": "code",
   "execution_count": 32,
   "id": "4951e6be",
   "metadata": {},
   "outputs": [
    {
     "data": {
      "text/html": [
       "<div>\n",
       "<style scoped>\n",
       "    .dataframe tbody tr th:only-of-type {\n",
       "        vertical-align: middle;\n",
       "    }\n",
       "\n",
       "    .dataframe tbody tr th {\n",
       "        vertical-align: top;\n",
       "    }\n",
       "\n",
       "    .dataframe thead th {\n",
       "        text-align: right;\n",
       "    }\n",
       "</style>\n",
       "<table border=\"1\" class=\"dataframe\">\n",
       "  <thead>\n",
       "    <tr style=\"text-align: right;\">\n",
       "      <th></th>\n",
       "      <th>0</th>\n",
       "      <th>1</th>\n",
       "      <th>org</th>\n",
       "    </tr>\n",
       "  </thead>\n",
       "  <tbody>\n",
       "    <tr>\n",
       "      <th>0</th>\n",
       "      <td>104.21.95.107</td>\n",
       "      <td>0.04</td>\n",
       "      <td>AS13335 Cloudflare, Inc.</td>\n",
       "    </tr>\n",
       "    <tr>\n",
       "      <th>1</th>\n",
       "      <td>198.98.59.28</td>\n",
       "      <td>0.00</td>\n",
       "      <td>AS53667 FranTech Solutions</td>\n",
       "    </tr>\n",
       "    <tr>\n",
       "      <th>2</th>\n",
       "      <td>20.189.173.9</td>\n",
       "      <td>0.00</td>\n",
       "      <td>AS8075 Microsoft Corporation</td>\n",
       "    </tr>\n",
       "    <tr>\n",
       "      <th>3</th>\n",
       "      <td>factor</td>\n",
       "      <td>50.00</td>\n",
       "      <td>{\\n  \"status\": 404,\\n  \"error\": {\\n    \"title\"...</td>\n",
       "    </tr>\n",
       "  </tbody>\n",
       "</table>\n",
       "</div>"
      ],
      "text/plain": [
       "               0      1                                                org\n",
       "0  104.21.95.107   0.04                           AS13335 Cloudflare, Inc.\n",
       "1   198.98.59.28   0.00                         AS53667 FranTech Solutions\n",
       "2   20.189.173.9   0.00                       AS8075 Microsoft Corporation\n",
       "3         factor  50.00  {\\n  \"status\": 404,\\n  \"error\": {\\n    \"title\"..."
      ]
     },
     "execution_count": 32,
     "metadata": {},
     "output_type": "execute_result"
    }
   ],
   "source": [
    "pt_pd"
   ]
  },
  {
   "cell_type": "code",
   "execution_count": 33,
   "id": "10f06ff5",
   "metadata": {},
   "outputs": [],
   "source": [
    "import os"
   ]
  },
  {
   "cell_type": "code",
   "execution_count": 34,
   "id": "bfb84327",
   "metadata": {},
   "outputs": [],
   "source": [
    "os.environ[\"mmpath\"] = \"/\""
   ]
  },
  {
   "cell_type": "code",
   "execution_count": 35,
   "id": "69741aab",
   "metadata": {},
   "outputs": [],
   "source": [
    "from subprocess import check_output"
   ]
  },
  {
   "cell_type": "code",
   "execution_count": 36,
   "id": "d3f1e5dc",
   "metadata": {},
   "outputs": [],
   "source": [
    "from collections import defaultdict"
   ]
  },
  {
   "cell_type": "code",
   "execution_count": 43,
   "id": "e0dfc64c",
   "metadata": {},
   "outputs": [],
   "source": [
    "output_lst = defaultdict(list)"
   ]
  },
  {
   "cell_type": "code",
   "execution_count": null,
   "id": "6d879f66",
   "metadata": {},
   "outputs": [],
   "source": [
    "for i in [0.00, 0.01, 0.02, 0.03, 0.04, 0.05, 0.06, 0.07, 0.08, 0.09, 0.10]:\n",
    "    pt_pd[1] = pt_pd.apply(lambda x: i if \"AS13335\" in x['org'] else x[1], axis = 1)\n",
    "    pt_pd[[0,1]].to_csv(\"./tmp_dict/www.shanezhang.com/prolonged_traffic.txt\", header = None, index = None, sep = \"\\t\")\n",
    "    for _ in range(100):\n",
    "        output_lst[i].append(check_output(\"python replay_all.py\", shell = True))\n",
    "    os.system(\"mv plTime/www.shanezhang.com plTime/www.shanezhang.com.%s\" % i)"
   ]
  },
  {
   "cell_type": "code",
   "execution_count": null,
   "id": "3439f30f",
   "metadata": {},
   "outputs": [],
   "source": []
  },
  {
   "cell_type": "code",
   "execution_count": 48,
   "id": "d471005d",
   "metadata": {},
   "outputs": [],
   "source": [
    "plt_dict = {}\n",
    "for i in [ 0.01, 0.02, 0.03, 0.04, 0.05, 0.06, 0.07, 0.08, 0.09, 0.10]:\n",
    "    plt_dict[i] = pd.read_csv(\"plTime/www.shanezhang.com.%s\" % i, header = None, sep = '\\t')"
   ]
  },
  {
   "cell_type": "code",
   "execution_count": 55,
   "id": "ee5070e6",
   "metadata": {},
   "outputs": [],
   "source": [
    "import seaborn as sns\n",
    "import matplotlib.pyplot as plt"
   ]
  },
  {
   "cell_type": "code",
   "execution_count": 56,
   "id": "dca277f2",
   "metadata": {},
   "outputs": [
    {
     "data": {
      "text/plain": [
       "Text(0.5, 1.0, 'www.shanezhang.com/80pic2.html')"
      ]
     },
     "execution_count": 56,
     "metadata": {},
     "output_type": "execute_result"
    },
    {
     "data": {
      "image/png": "[encoded data removed]",
      "text/plain": [
       "<Figure size 640x480 with 1 Axes>"
      ]
     },
     "metadata": {},
     "output_type": "display_data"
    }
   ],
   "source": [
    "for each in plt_dict:\n",
    "    sns.ecdfplot(plt_dict[each][plt_dict[each][0] == \"NWT\"][1], label = each.__str__())\n",
    "plt.grid()\n",
    "plt.legend()\n",
    "plt.title(\"www.shanezhang.com/80pic2.html\")"
   ]
  },
  {
   "cell_type": "code",
   "execution_count": 60,
   "id": "48d58563",
   "metadata": {},
   "outputs": [
    {
     "name": "stdout",
     "output_type": "stream",
     "text": [
      "0.01 0.7155\n",
      "0.02 0.717\n",
      "0.03 0.723\n",
      "0.04 0.735\n",
      "0.05 0.747\n",
      "0.06 0.7395\n",
      "0.07 0.8115000000000001\n",
      "0.08 0.823\n",
      "0.09 0.8385\n",
      "0.1 0.846\n"
     ]
    }
   ],
   "source": [
    "for each in plt_dict:\n",
    "    print (each, plt_dict[each][plt_dict[each][0] == \"PLT\"][1].median())"
   ]
  },
  {
   "cell_type": "code",
   "execution_count": null,
   "id": "b492cc77",
   "metadata": {},
   "outputs": [],
   "source": []
  },
  {
   "cell_type": "code",
   "execution_count": null,
   "id": "6f1bc831",
   "metadata": {},
   "outputs": [],
   "source": []
  },
  {
   "cell_type": "code",
   "execution_count": 52,
   "id": "cb1a3d07",
   "metadata": {},
   "outputs": [
    {
     "data": {
      "text/plain": [
       "11"
      ]
     },
     "execution_count": 52,
     "metadata": {},
     "output_type": "execute_result"
    }
   ],
   "source": [
    "len(output_lst)"
   ]
  },
  {
   "cell_type": "code",
   "execution_count": 53,
   "id": "072b4e3c",
   "metadata": {},
   "outputs": [],
   "source": [
    "connect_session_info_pic2 = output_lst"
   ]
  },
  {
   "cell_type": "code",
   "execution_count": 54,
   "id": "b4dcbe58",
   "metadata": {},
   "outputs": [
    {
     "name": "stdout",
     "output_type": "stream",
     "text": [
      "Stored 'connect_session_info_pic2' (defaultdict)\n"
     ]
    }
   ],
   "source": [
    "%store connect_session_info_pic2"
   ]
  },
  {
   "cell_type": "code",
   "execution_count": null,
   "id": "40c43f97",
   "metadata": {},
   "outputs": [],
   "source": []
  }
 ],
 "metadata": {
  "kernelspec": {
   "display_name": "Python 3 (ipykernel)",
   "language": "python",
   "name": "python3"
  },
  "language_info": {
   "codemirror_mode": {
    "name": "ipython",
    "version": 3
   },
   "file_extension": ".py",
   "mimetype": "text/x-python",
   "name": "python",
   "nbconvert_exporter": "python",
   "pygments_lexer": "ipython3",
   "version": "3.9.13"
  }
 },
 "nbformat": 4,
 "nbformat_minor": 5
}
