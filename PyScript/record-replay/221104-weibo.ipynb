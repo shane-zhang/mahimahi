{
 "cells": [
  {
   "cell_type": "code",
   "execution_count": 40,
   "id": "67f102d8",
   "metadata": {},
   "outputs": [],
   "source": [
    "import pandas as pd"
   ]
  },
  {
   "cell_type": "code",
   "execution_count": 41,
   "id": "877d86ad",
   "metadata": {},
   "outputs": [],
   "source": [
    "plt_pd = pd.read_csv(\"./plTime/weibo.com.bak\", sep = '\\t', header = None)"
   ]
  },
  {
   "cell_type": "code",
   "execution_count": 47,
   "id": "7c34560c",
   "metadata": {},
   "outputs": [
    {
     "data": {
      "text/html": [
       "<div>\n",
       "<style scoped>\n",
       "    .dataframe tbody tr th:only-of-type {\n",
       "        vertical-align: middle;\n",
       "    }\n",
       "\n",
       "    .dataframe tbody tr th {\n",
       "        vertical-align: top;\n",
       "    }\n",
       "\n",
       "    .dataframe thead th {\n",
       "        text-align: right;\n",
       "    }\n",
       "</style>\n",
       "<table border=\"1\" class=\"dataframe\">\n",
       "  <thead>\n",
       "    <tr style=\"text-align: right;\">\n",
       "      <th></th>\n",
       "      <th>0</th>\n",
       "      <th>1</th>\n",
       "    </tr>\n",
       "  </thead>\n",
       "  <tbody>\n",
       "    <tr>\n",
       "      <th>0</th>\n",
       "      <td>PLT</td>\n",
       "      <td>3.073000</td>\n",
       "    </tr>\n",
       "    <tr>\n",
       "      <th>1</th>\n",
       "      <td>NWT</td>\n",
       "      <td>1.402276</td>\n",
       "    </tr>\n",
       "    <tr>\n",
       "      <th>2</th>\n",
       "      <td>PLT</td>\n",
       "      <td>5.885000</td>\n",
       "    </tr>\n",
       "    <tr>\n",
       "      <th>3</th>\n",
       "      <td>NWT</td>\n",
       "      <td>3.560579</td>\n",
       "    </tr>\n",
       "    <tr>\n",
       "      <th>4</th>\n",
       "      <td>PLT</td>\n",
       "      <td>5.727000</td>\n",
       "    </tr>\n",
       "    <tr>\n",
       "      <th>...</th>\n",
       "      <td>...</td>\n",
       "      <td>...</td>\n",
       "    </tr>\n",
       "    <tr>\n",
       "      <th>119</th>\n",
       "      <td>NWT</td>\n",
       "      <td>2.854140</td>\n",
       "    </tr>\n",
       "    <tr>\n",
       "      <th>120</th>\n",
       "      <td>PLT</td>\n",
       "      <td>3.783000</td>\n",
       "    </tr>\n",
       "    <tr>\n",
       "      <th>121</th>\n",
       "      <td>NWT</td>\n",
       "      <td>2.576387</td>\n",
       "    </tr>\n",
       "    <tr>\n",
       "      <th>122</th>\n",
       "      <td>PLT</td>\n",
       "      <td>3.761000</td>\n",
       "    </tr>\n",
       "    <tr>\n",
       "      <th>123</th>\n",
       "      <td>NWT</td>\n",
       "      <td>2.543417</td>\n",
       "    </tr>\n",
       "  </tbody>\n",
       "</table>\n",
       "<p>124 rows × 2 columns</p>\n",
       "</div>"
      ],
      "text/plain": [
       "       0         1\n",
       "0    PLT  3.073000\n",
       "1    NWT  1.402276\n",
       "2    PLT  5.885000\n",
       "3    NWT  3.560579\n",
       "4    PLT  5.727000\n",
       "..   ...       ...\n",
       "119  NWT  2.854140\n",
       "120  PLT  3.783000\n",
       "121  NWT  2.576387\n",
       "122  PLT  3.761000\n",
       "123  NWT  2.543417\n",
       "\n",
       "[124 rows x 2 columns]"
      ]
     },
     "execution_count": 47,
     "metadata": {},
     "output_type": "execute_result"
    }
   ],
   "source": [
    "plt_pd"
   ]
  },
  {
   "cell_type": "code",
   "execution_count": 44,
   "id": "07a671fc",
   "metadata": {},
   "outputs": [],
   "source": [
    "raw_plt = plt_pd[plt_pd[0] == \"PLT\"][-10:]"
   ]
  },
  {
   "cell_type": "code",
   "execution_count": 21,
   "id": "62e3ddf5",
   "metadata": {},
   "outputs": [],
   "source": [
    "pt_pd = pd.read_csv(\"./tmp/weibo.com/prolonged_traffic.txt\", sep = '\\t', header = None)"
   ]
  },
  {
   "cell_type": "code",
   "execution_count": 23,
   "id": "a525a3cc",
   "metadata": {},
   "outputs": [],
   "source": [
    "import requests"
   ]
  },
  {
   "cell_type": "code",
   "execution_count": 37,
   "id": "db98bd0b",
   "metadata": {},
   "outputs": [],
   "source": [
    "get = requests.get(\"https://ipinfo.io/8.8.8.8/org?token=2c732d429c11a8\").content.decode().strip()"
   ]
  },
  {
   "cell_type": "code",
   "execution_count": 38,
   "id": "5be74bd0",
   "metadata": {},
   "outputs": [],
   "source": [
    "pt_pd['org'] = pt_pd.apply(lambda x: requests.get(\"https://ipinfo.io/%s/org?token=2c732d429c11a8\"%x[0]).content.decode().strip(), axis = 1)"
   ]
  },
  {
   "cell_type": "code",
   "execution_count": 39,
   "id": "c25056ec",
   "metadata": {},
   "outputs": [
    {
     "data": {
      "text/html": [
       "<div>\n",
       "<style scoped>\n",
       "    .dataframe tbody tr th:only-of-type {\n",
       "        vertical-align: middle;\n",
       "    }\n",
       "\n",
       "    .dataframe tbody tr th {\n",
       "        vertical-align: top;\n",
       "    }\n",
       "\n",
       "    .dataframe thead th {\n",
       "        text-align: right;\n",
       "    }\n",
       "</style>\n",
       "<table border=\"1\" class=\"dataframe\">\n",
       "  <thead>\n",
       "    <tr style=\"text-align: right;\">\n",
       "      <th></th>\n",
       "      <th>0</th>\n",
       "      <th>1</th>\n",
       "      <th>org</th>\n",
       "    </tr>\n",
       "  </thead>\n",
       "  <tbody>\n",
       "    <tr>\n",
       "      <th>0</th>\n",
       "      <td>8.212.100.40</td>\n",
       "      <td>0.0</td>\n",
       "      <td>AS134963 Alibaba.com Singapore E-Commerce Priv...</td>\n",
       "    </tr>\n",
       "    <tr>\n",
       "      <th>1</th>\n",
       "      <td>20.42.65.90</td>\n",
       "      <td>0.0</td>\n",
       "      <td>AS8075 Microsoft Corporation</td>\n",
       "    </tr>\n",
       "    <tr>\n",
       "      <th>2</th>\n",
       "      <td>204.85.32.26</td>\n",
       "      <td>0.0</td>\n",
       "      <td>AS81 MCNC</td>\n",
       "    </tr>\n",
       "    <tr>\n",
       "      <th>3</th>\n",
       "      <td>142.251.15.155</td>\n",
       "      <td>0.0</td>\n",
       "      <td>AS15169 Google LLC</td>\n",
       "    </tr>\n",
       "    <tr>\n",
       "      <th>4</th>\n",
       "      <td>216.239.32.178</td>\n",
       "      <td>0.0</td>\n",
       "      <td>AS15169 Google LLC</td>\n",
       "    </tr>\n",
       "    <tr>\n",
       "      <th>5</th>\n",
       "      <td>64.233.177.156</td>\n",
       "      <td>0.0</td>\n",
       "      <td>AS15169 Google LLC</td>\n",
       "    </tr>\n",
       "    <tr>\n",
       "      <th>6</th>\n",
       "      <td>142.251.15.156</td>\n",
       "      <td>0.0</td>\n",
       "      <td>AS15169 Google LLC</td>\n",
       "    </tr>\n",
       "    <tr>\n",
       "      <th>7</th>\n",
       "      <td>204.85.32.24</td>\n",
       "      <td>0.0</td>\n",
       "      <td>AS81 MCNC</td>\n",
       "    </tr>\n",
       "    <tr>\n",
       "      <th>8</th>\n",
       "      <td>218.213.85.221</td>\n",
       "      <td>0.0</td>\n",
       "      <td>AS9293 NTT Com Asia Limited</td>\n",
       "    </tr>\n",
       "    <tr>\n",
       "      <th>9</th>\n",
       "      <td>8.38.121.226</td>\n",
       "      <td>0.0</td>\n",
       "      <td>AS24429 Zhejiang Taobao Network Co.,Ltd</td>\n",
       "    </tr>\n",
       "    <tr>\n",
       "      <th>10</th>\n",
       "      <td>8.38.121.230</td>\n",
       "      <td>0.0</td>\n",
       "      <td>AS24429 Zhejiang Taobao Network Co.,Ltd</td>\n",
       "    </tr>\n",
       "    <tr>\n",
       "      <th>11</th>\n",
       "      <td>64.233.185.157</td>\n",
       "      <td>0.0</td>\n",
       "      <td>AS15169 Google LLC</td>\n",
       "    </tr>\n",
       "    <tr>\n",
       "      <th>12</th>\n",
       "      <td>142.250.189.97</td>\n",
       "      <td>0.0</td>\n",
       "      <td>AS15169 Google LLC</td>\n",
       "    </tr>\n",
       "    <tr>\n",
       "      <th>13</th>\n",
       "      <td>36.51.224.27</td>\n",
       "      <td>0.0</td>\n",
       "      <td>AS37936 SINA</td>\n",
       "    </tr>\n",
       "    <tr>\n",
       "      <th>14</th>\n",
       "      <td>172.217.13.1</td>\n",
       "      <td>0.0</td>\n",
       "      <td>AS15169 Google LLC</td>\n",
       "    </tr>\n",
       "    <tr>\n",
       "      <th>15</th>\n",
       "      <td>74.125.138.99</td>\n",
       "      <td>0.0</td>\n",
       "      <td>AS15169 Google LLC</td>\n",
       "    </tr>\n",
       "    <tr>\n",
       "      <th>16</th>\n",
       "      <td>8.38.121.229</td>\n",
       "      <td>0.0</td>\n",
       "      <td>AS24429 Zhejiang Taobao Network Co.,Ltd</td>\n",
       "    </tr>\n",
       "    <tr>\n",
       "      <th>17</th>\n",
       "      <td>172.217.10.194</td>\n",
       "      <td>0.0</td>\n",
       "      <td>AS15169 Google LLC</td>\n",
       "    </tr>\n",
       "    <tr>\n",
       "      <th>18</th>\n",
       "      <td>8.38.121.228</td>\n",
       "      <td>0.0</td>\n",
       "      <td>AS24429 Zhejiang Taobao Network Co.,Ltd</td>\n",
       "    </tr>\n",
       "    <tr>\n",
       "      <th>19</th>\n",
       "      <td>36.51.254.102</td>\n",
       "      <td>0.0</td>\n",
       "      <td>AS37936 SINA</td>\n",
       "    </tr>\n",
       "    <tr>\n",
       "      <th>20</th>\n",
       "      <td>factor</td>\n",
       "      <td>50.0</td>\n",
       "      <td>{\\n  \"status\": 404,\\n  \"error\": {\\n    \"title\"...</td>\n",
       "    </tr>\n",
       "  </tbody>\n",
       "</table>\n",
       "</div>"
      ],
      "text/plain": [
       "                 0     1                                                org\n",
       "0     8.212.100.40   0.0  AS134963 Alibaba.com Singapore E-Commerce Priv...\n",
       "1      20.42.65.90   0.0                       AS8075 Microsoft Corporation\n",
       "2     204.85.32.26   0.0                                          AS81 MCNC\n",
       "3   142.251.15.155   0.0                                 AS15169 Google LLC\n",
       "4   216.239.32.178   0.0                                 AS15169 Google LLC\n",
       "5   64.233.177.156   0.0                                 AS15169 Google LLC\n",
       "6   142.251.15.156   0.0                                 AS15169 Google LLC\n",
       "7     204.85.32.24   0.0                                          AS81 MCNC\n",
       "8   218.213.85.221   0.0                        AS9293 NTT Com Asia Limited\n",
       "9     8.38.121.226   0.0            AS24429 Zhejiang Taobao Network Co.,Ltd\n",
       "10    8.38.121.230   0.0            AS24429 Zhejiang Taobao Network Co.,Ltd\n",
       "11  64.233.185.157   0.0                                 AS15169 Google LLC\n",
       "12  142.250.189.97   0.0                                 AS15169 Google LLC\n",
       "13    36.51.224.27   0.0                                       AS37936 SINA\n",
       "14    172.217.13.1   0.0                                 AS15169 Google LLC\n",
       "15   74.125.138.99   0.0                                 AS15169 Google LLC\n",
       "16    8.38.121.229   0.0            AS24429 Zhejiang Taobao Network Co.,Ltd\n",
       "17  172.217.10.194   0.0                                 AS15169 Google LLC\n",
       "18    8.38.121.228   0.0            AS24429 Zhejiang Taobao Network Co.,Ltd\n",
       "19   36.51.254.102   0.0                                       AS37936 SINA\n",
       "20          factor  50.0  {\\n  \"status\": 404,\\n  \"error\": {\\n    \"title\"..."
      ]
     },
     "execution_count": 39,
     "metadata": {},
     "output_type": "execute_result"
    }
   ],
   "source": [
    "pt_pd"
   ]
  },
  {
   "cell_type": "code",
   "execution_count": 45,
   "id": "269f55a1",
   "metadata": {},
   "outputs": [],
   "source": [
    "new_pd = pd.read_csv(\"./plTime/weibo.com\", sep = '\\t', header = None)"
   ]
  },
  {
   "cell_type": "code",
   "execution_count": 54,
   "id": "48168d50",
   "metadata": {},
   "outputs": [],
   "source": [
    "import seaborn as sns"
   ]
  },
  {
   "cell_type": "code",
   "execution_count": 59,
   "id": "3186e936",
   "metadata": {},
   "outputs": [
    {
     "data": {
      "text/plain": [
       "<AxesSubplot:xlabel='1', ylabel='Proportion'>"
      ]
     },
     "execution_count": 59,
     "metadata": {},
     "output_type": "execute_result"
    },
    {
     "data": {
      "image/png": "[encoded data removed]",
      "text/plain": [
       "<Figure size 640x480 with 1 Axes>"
      ]
     },
     "metadata": {},
     "output_type": "display_data"
    }
   ],
   "source": [
    "sns.ecdfplot(raw_plt[1])\n",
    "sns.ecdfplot(new_pd[new_pd[0] == \"PLT\"][-10:][1])"
   ]
  },
  {
   "cell_type": "code",
   "execution_count": 52,
   "id": "b1b19d47",
   "metadata": {},
   "outputs": [
    {
     "data": {
      "text/plain": [
       "array([[<AxesSubplot:title={'center':'1'}>]], dtype=object)"
      ]
     },
     "execution_count": 52,
     "metadata": {},
     "output_type": "execute_result"
    },
    {
     "data": {
      "image/png": "[encoded data removed]",
      "text/plain": [
       "<Figure size 640x480 with 1 Axes>"
      ]
     },
     "metadata": {},
     "output_type": "display_data"
    }
   ],
   "source": []
  },
  {
   "cell_type": "code",
   "execution_count": null,
   "id": "9c57e984",
   "metadata": {},
   "outputs": [],
   "source": []
  },
  {
   "cell_type": "code",
   "execution_count": 58,
   "id": "fe1c2b98",
   "metadata": {},
   "outputs": [
    {
     "data": {
      "text/html": [
       "<div>\n",
       "<style scoped>\n",
       "    .dataframe tbody tr th:only-of-type {\n",
       "        vertical-align: middle;\n",
       "    }\n",
       "\n",
       "    .dataframe tbody tr th {\n",
       "        vertical-align: top;\n",
       "    }\n",
       "\n",
       "    .dataframe thead th {\n",
       "        text-align: right;\n",
       "    }\n",
       "</style>\n",
       "<table border=\"1\" class=\"dataframe\">\n",
       "  <thead>\n",
       "    <tr style=\"text-align: right;\">\n",
       "      <th></th>\n",
       "      <th>0</th>\n",
       "      <th>1</th>\n",
       "    </tr>\n",
       "  </thead>\n",
       "  <tbody>\n",
       "    <tr>\n",
       "      <th>104</th>\n",
       "      <td>PLT</td>\n",
       "      <td>3.894</td>\n",
       "    </tr>\n",
       "    <tr>\n",
       "      <th>106</th>\n",
       "      <td>PLT</td>\n",
       "      <td>3.770</td>\n",
       "    </tr>\n",
       "    <tr>\n",
       "      <th>108</th>\n",
       "      <td>PLT</td>\n",
       "      <td>3.740</td>\n",
       "    </tr>\n",
       "    <tr>\n",
       "      <th>110</th>\n",
       "      <td>PLT</td>\n",
       "      <td>3.773</td>\n",
       "    </tr>\n",
       "    <tr>\n",
       "      <th>112</th>\n",
       "      <td>PLT</td>\n",
       "      <td>3.787</td>\n",
       "    </tr>\n",
       "    <tr>\n",
       "      <th>114</th>\n",
       "      <td>PLT</td>\n",
       "      <td>4.711</td>\n",
       "    </tr>\n",
       "    <tr>\n",
       "      <th>116</th>\n",
       "      <td>PLT</td>\n",
       "      <td>3.726</td>\n",
       "    </tr>\n",
       "    <tr>\n",
       "      <th>118</th>\n",
       "      <td>PLT</td>\n",
       "      <td>4.708</td>\n",
       "    </tr>\n",
       "    <tr>\n",
       "      <th>120</th>\n",
       "      <td>PLT</td>\n",
       "      <td>3.783</td>\n",
       "    </tr>\n",
       "    <tr>\n",
       "      <th>122</th>\n",
       "      <td>PLT</td>\n",
       "      <td>3.761</td>\n",
       "    </tr>\n",
       "  </tbody>\n",
       "</table>\n",
       "</div>"
      ],
      "text/plain": [
       "       0      1\n",
       "104  PLT  3.894\n",
       "106  PLT  3.770\n",
       "108  PLT  3.740\n",
       "110  PLT  3.773\n",
       "112  PLT  3.787\n",
       "114  PLT  4.711\n",
       "116  PLT  3.726\n",
       "118  PLT  4.708\n",
       "120  PLT  3.783\n",
       "122  PLT  3.761"
      ]
     },
     "execution_count": 58,
     "metadata": {},
     "output_type": "execute_result"
    }
   ],
   "source": [
    "raw_plt"
   ]
  },
  {
   "cell_type": "code",
   "execution_count": 36,
   "id": "2715a759",
   "metadata": {},
   "outputs": [
    {
     "data": {
      "text/plain": [
       "'AS15169 Google LLC'"
      ]
     },
     "execution_count": 36,
     "metadata": {},
     "output_type": "execute_result"
    }
   ],
   "source": [
    "get"
   ]
  }
 ],
 "metadata": {
  "kernelspec": {
   "display_name": "Python 3 (ipykernel)",
   "language": "python",
   "name": "python3"
  },
  "language_info": {
   "codemirror_mode": {
    "name": "ipython",
    "version": 3
   },
   "file_extension": ".py",
   "mimetype": "text/x-python",
   "name": "python",
   "nbconvert_exporter": "python",
   "pygments_lexer": "ipython3",
   "version": "3.9.13"
  }
 },
 "nbformat": 4,
 "nbformat_minor": 5
}
